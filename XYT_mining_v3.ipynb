{
 "cells": [
  {
   "cell_type": "markdown",
   "metadata": {},
   "source": [
    "# XYT mining op de weg"
   ]
  },
  {
   "cell_type": "markdown",
   "metadata": {},
   "source": [
    "In deze project identificeren we start- en stoplocaties op basis van XYT gegevens. "
   ]
  },
  {
   "cell_type": "code",
   "execution_count": null,
   "metadata": {},
   "outputs": [],
   "source": [
    "##import packages\n",
    "import pandas as pd\n",
    "pd.set_option('mode.chained_assignment', None)\n",
    "import pandas as pd\n",
    "import os\n",
    "import fnmatch\n",
    "import concurrent.futures\n",
    "import numpy as np\n",
    "from geopy.distance import geodesic\n",
    "#from geopy.distance import great_circle\n",
    "#from geopy.distance import vincenty"
   ]
  },
  {
   "cell_type": "markdown",
   "metadata": {},
   "source": [
    "Eerst voegen we twee dagen aan XYT data samen"
   ]
  },
  {
   "cell_type": "code",
   "execution_count": null,
   "metadata": {},
   "outputs": [],
   "source": [
    "## Import files\n",
    "path = 'type-hier-je-pad-naar-bestanden'\n",
    "\n",
    "with concurrent.futures.ProcessPoolExecutor() as executor:\n",
    "    configfiles = [os.path.join(dirpath, f)\n",
    "        for dirpath, dirnames, files in os.walk(path)\n",
    "        for f in fnmatch.filter(files, '*.csv')]\n",
    "        \n",
    "list = []\n",
    "for file in configfiles:\n",
    "    df = pd.read_csv(file,index_col=None, header=0, usecols=[0,1,2,3])\n",
    "    list.append(df)\n",
    "    df = pd.concat(list)\n",
    "    \n",
    "##drop index + create index\n",
    "df.reset_index(inplace=True)\n",
    "df['index'] = df.index"
   ]
  },
  {
   "cell_type": "markdown",
   "metadata": {},
   "source": [
    "Daarna bereken we de afstand tussen twee XY punten aan de hand van de geodesics formule van Karney (2013). Deze formule zit in de package Geopy."
   ]
  },
  {
   "cell_type": "code",
   "execution_count": null,
   "metadata": {},
   "outputs": [],
   "source": [
    "##New table: van a naar b --> drop na \n",
    "df = df.rename(index=str, columns={\"Lon\": \"Lon_a\", \"Lat\": \"Lat_a\"})\n",
    "df[\"Lat_b\"] = df[\"Lat_a\"].shift(-1)\n",
    "df[\"Lon_b\"] = df[\"Lon_a\"].shift(-1)\n",
    "df = df.dropna()\n",
    "\n",
    "##Measure distance\n",
    "def distancer_km(row):\n",
    "    coords_1 = (row['Lat_a'], row['Lon_a'])\n",
    "    coords_2 = (row['Lat_b'], row['Lon_b'])\n",
    "    return geodesic(coords_1, coords_2).km\n",
    "    #return vincenty(coords_1, coords_2).km\n",
    "\n",
    "def distancer_m(row):\n",
    "    coords_1 = (row['Lat_a'], row['Lon_a'])\n",
    "    coords_2 = (row['Lat_b'], row['Lon_b'])\n",
    "    return geodesic(coords_1, coords_2).m\n",
    "    #return vincenty(coords_1, coords_2).km\n",
    "\n",
    "df['distance_km'] = df.apply(distancer_km, axis=1)\n",
    "df['distance_m'] = df.apply(distancer_m, axis=1)"
   ]
  },
  {
   "cell_type": "markdown",
   "metadata": {},
   "source": [
    "Nu gaan we het verschil in seconden tussen twee XY punten berekenen. Hiervoor gebruiken we de package Numpy. "
   ]
  },
  {
   "cell_type": "code",
   "execution_count": null,
   "metadata": {},
   "outputs": [],
   "source": [
    "##Change date format\n",
    "df[\"date_a\"] = np.array(df[\"Dt\"], dtype=\"datetime64\")\n",
    "\n",
    "##difference in seconds between two XY\n",
    "df[\"date_b\"] = df[\"date_a\"]\n",
    "df[\"date_b\"] = df[\"date_b\"].shift(-1)\n",
    "df[\"date_b\"] = df[\"date_b\"].dropna()\n",
    "df[\"diff\"] = df[\"date_b\"] - df[\"date_a\"]\n",
    "df[\"diff_sec\"] = df[\"diff\"].astype('timedelta64[s]')"
   ]
  },
  {
   "cell_type": "markdown",
   "metadata": {},
   "source": [
    "Door het verschil in seconden/uur te delen door verschil in meters/kilometers kunnen we de snelheid berekenen. "
   ]
  },
  {
   "cell_type": "code",
   "execution_count": null,
   "metadata": {},
   "outputs": [],
   "source": [
    "## meters per second / km per hour\n",
    "df[\"speed_ms\"] = df[\"distance_m\"]/df[\"diff_sec\"]\n",
    "df[\"speed_kmu\"] = df[\"distance_km\"]/df[\"diff_sec\"].divide(60*60)"
   ]
  },
  {
   "cell_type": "code",
   "execution_count": null,
   "metadata": {},
   "outputs": [],
   "source": []
  },
  {
   "cell_type": "code",
   "execution_count": null,
   "metadata": {},
   "outputs": [],
   "source": []
  }
 ],
 "metadata": {
  "kernelspec": {
   "display_name": "Python 3",
   "language": "python",
   "name": "python3"
  },
  "language_info": {
   "codemirror_mode": {
    "name": "ipython",
    "version": 3
   },
   "file_extension": ".py",
   "mimetype": "text/x-python",
   "name": "python",
   "nbconvert_exporter": "python",
   "pygments_lexer": "ipython3",
   "version": "3.7.0"
  }
 },
 "nbformat": 4,
 "nbformat_minor": 2
}
