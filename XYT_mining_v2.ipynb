{
 "cells": [
  {
   "cell_type": "markdown",
   "metadata": {},
   "source": [
    "# XYT mining op de weg"
   ]
  },
  {
   "cell_type": "markdown",
   "metadata": {},
   "source": [
    "In deze project identificeren we start- en stoplocaties op basis van XYT gegevens. "
   ]
  },
  {
   "cell_type": "code",
   "execution_count": 179,
   "metadata": {},
   "outputs": [],
   "source": [
    "import pandas as pd\n",
    "import glob\n",
    "\n",
    "#df[\"minutes\"].iloc[762:771] = df[\"minutes\"].iloc[762:771] + 1440 geeft warning: setting with copy --> weet niet wat het probleem is, werkt prima\n",
    "pd.set_option('mode.chained_assignment', None)\n",
    "\n",
    "from math import radians, cos, sin, asin, sqrt"
   ]
  },
  {
   "cell_type": "code",
   "execution_count": 180,
   "metadata": {},
   "outputs": [],
   "source": [
    "### Inlezen en samenvoegen van csv bestanden\n",
    "allFiles = glob.glob('*.csv')\n",
    "list = []\n",
    "for file in allFiles:\n",
    "    df = pd.read_csv(file,index_col=None, header=0, usecols=[0,1,2,3])\n",
    "    list.append(df)\n",
    "df = pd.concat(list)"
   ]
  },
  {
   "cell_type": "code",
   "execution_count": 181,
   "metadata": {},
   "outputs": [],
   "source": [
    "#inlezen csv\n",
    "#df = pd.read_csv(\"XYT_data.csv\", sep=\";\")"
   ]
  },
  {
   "cell_type": "markdown",
   "metadata": {},
   "source": [
    "Nu is het tijd om het verschil in meters te berekenen tussen twee XY. De afstand berekenen we met behulp van de Haversine-formule.  "
   ]
  },
  {
   "cell_type": "code",
   "execution_count": 183,
   "metadata": {},
   "outputs": [],
   "source": [
    "#In de Haversine-formule berekenen we de afstand tussen punt a en b. Om dit te berekenen zijn creëren we de kolommen lon_a / lat_a/ lon_b / lat_b. \n",
    "df[\"Lat_a\"] = df[\"Lat\"]\n",
    "df[\"Lon_a\"] = df[\"Lon\"]\n",
    "df[\"Lat_b\"] = df[\"Lat\"].shift(-1)\n",
    "df[\"Lon_b\"] = df[\"Lon\"].shift(-1)"
   ]
  },
  {
   "cell_type": "code",
   "execution_count": 185,
   "metadata": {},
   "outputs": [],
   "source": [
    "## Daarna creëren we de functie haversine ((https://stackoverflow.com/questions/4913349/haversine-formula-in-python-bearing-and-distance-between-two-gps-points).\n",
    "\n",
    "def haversine(lon1, lat1, lon2, lat2):\n",
    "    \"\"\"\n",
    "    Calculate the great circle distance between two points \n",
    "    on the earth (specified in decimal degrees)\n",
    "    \"\"\"\n",
    "    # convert decimal degrees to radians \n",
    "    lon1, lat1, lon2, lat2 = map(radians, [lon1, lat1, lon2, lat2])\n",
    "\n",
    "    # haversine formula \n",
    "    dlon = lon2 - lon1 \n",
    "    dlat = lat2 - lat1 \n",
    "    a = sin(dlat/2)**2 + cos(lat1) * cos(lat2) * sin(dlon/2)**2\n",
    "    c = 2 * asin(sqrt(a)) \n",
    "    r = 6371 # Radius of earth in kilometers. Use 3956 for miles\n",
    "    return c * r\n",
    "\n",
    "## Creërt kolom \"distance\". Deze kolom geeft verschil aan tussen punt a en b.\n",
    "#for index, row in df.iterrows():\n",
    "#    df.loc[index, 'distance'] = haversine(row['Lon_a'], row['Lat_a'], row['Lon_b'], row['Lat_b'])\n",
    "\n",
    "df['distance'] = df.apply(lambda row: haversine(row['Lon_a'], row['Lat_a'], row['Lon_b'], row['Lat_b']), axis=1)\n",
    "df\n",
    "    \n",
    "## Verschil afstand in meters\n",
    "df[\"distance\"] = df[\"distance\"].multiply(1000)"
   ]
  },
  {
   "cell_type": "markdown",
   "metadata": {},
   "source": [
    "Eerst berekenen we het verschil in tijd tussen twee XY punten. Dit doen we door de tijdgegevens op te splitsen in datum en tijd. Daarna rekenen we de tijd om naar minuten. Als laatste berekenen we het verschil in minuten tussen twee XY punten. "
   ]
  },
  {
   "cell_type": "code",
   "execution_count": 186,
   "metadata": {},
   "outputs": [],
   "source": [
    "#Naar leesbare datumvermelding \n",
    "df[\"date_time\"] = pd.to_datetime(df[\"Dt\"])\n",
    "\n",
    "#verschillende kolommen voor tijd en datum\n",
    "df[\"date\"] = df[\"date_time\"].dt.date\n",
    "df[\"time\"] = df[\"date_time\"].dt.time\n",
    "\n",
    "#Tijd naar minuten omrekenen\n",
    "minutes = pd.DatetimeIndex(df['date_time'])\n",
    "df[\"minutes_a\"] = minutes.hour * 60 + minutes.minute\n",
    "\n",
    "#deel van de tijd op volgende dag --> minuten gaan van 1439 naar 0 --> maar gezien we in de code de minuten van elkaar moeten aftrekken + 1440 gedaan\n",
    "df[\"minutes_a\"].iloc[762:771] = df[\"minutes_a\"].iloc[762:771] + 1440\n",
    "df[\"minutes_b\"] = df[\"minutes_a\"].shift(-1).fillna(0).astype(int)\n",
    "\n",
    "#Verschil in tijd afstanden (km/u en m/s)\n",
    "df[\"dif_min\"] = df[\"minutes_b\"] - df[\"minutes_a\"]\n",
    "df[\"dif_sec\"] = df[\"dif_min\"].multiply(60)\n",
    "df[\"speed_ms\"] = df[\"distance\"]/df[\"dif_sec\"]\n",
    "df[\"speed_kmu\"] = df[\"distance\"].divide(1000)/df[\"dif_sec\"].divide(60*60)"
   ]
  },
  {
   "cell_type": "code",
   "execution_count": 3,
   "metadata": {
    "scrolled": true
   },
   "outputs": [
    {
     "ename": "NameError",
     "evalue": "name 'df' is not defined",
     "output_type": "error",
     "traceback": [
      "\u001b[1;31m\u001b[0m",
      "\u001b[1;31mNameError\u001b[0mTraceback (most recent call last)",
      "\u001b[1;32m<ipython-input-3-33f89d830419>\u001b[0m in \u001b[0;36m<module>\u001b[1;34m()\u001b[0m\n\u001b[0;32m      1\u001b[0m \u001b[1;31m# verwijderen van kolommen + volgorde veranderen\u001b[0m\u001b[1;33m\u001b[0m\u001b[1;33m\u001b[0m\u001b[0m\n\u001b[0;32m      2\u001b[0m \u001b[1;33m\u001b[0m\u001b[0m\n\u001b[1;32m----> 3\u001b[1;33m \u001b[0mdf_old\u001b[0m \u001b[1;33m=\u001b[0m \u001b[0mdf\u001b[0m\u001b[1;33m\u001b[0m\u001b[0m\n\u001b[0m\u001b[0;32m      4\u001b[0m \u001b[1;33m\u001b[0m\u001b[0m\n\u001b[0;32m      5\u001b[0m \u001b[0mdf\u001b[0m \u001b[1;33m=\u001b[0m \u001b[0mdf_old\u001b[0m\u001b[1;33m[\u001b[0m\u001b[1;33m[\u001b[0m\u001b[1;34m\"VgNr\"\u001b[0m\u001b[1;33m,\u001b[0m \u001b[1;34m\"Dt\"\u001b[0m\u001b[1;33m,\u001b[0m \u001b[1;34m\"date_time\"\u001b[0m\u001b[1;33m,\u001b[0m \u001b[1;34m\"date\"\u001b[0m\u001b[1;33m,\u001b[0m \u001b[1;34m\"time\"\u001b[0m\u001b[1;33m,\u001b[0m \u001b[1;34m\"Lon_a\"\u001b[0m\u001b[1;33m,\u001b[0m \u001b[1;34m\"Lat_a\"\u001b[0m\u001b[1;33m,\u001b[0m \u001b[1;34m\"Lon_b\"\u001b[0m\u001b[1;33m,\u001b[0m \u001b[1;34m\"Lat_b\"\u001b[0m\u001b[1;33m,\u001b[0m \u001b[1;34m\"distance\"\u001b[0m\u001b[1;33m,\u001b[0m \u001b[1;34m\"minutes_a\"\u001b[0m\u001b[1;33m,\u001b[0m \u001b[1;34m\"minutes_b\"\u001b[0m\u001b[1;33m,\u001b[0m \u001b[1;34m\"dif_min\"\u001b[0m\u001b[1;33m,\u001b[0m \u001b[1;34m\"dif_sec\"\u001b[0m\u001b[1;33m,\u001b[0m \u001b[1;34m\"speed_ms\"\u001b[0m\u001b[1;33m,\u001b[0m \u001b[1;34m\"speed_kmu\"\u001b[0m\u001b[1;33m]\u001b[0m\u001b[1;33m]\u001b[0m\u001b[1;33m\u001b[0m\u001b[0m\n",
      "\u001b[1;31mNameError\u001b[0m: name 'df' is not defined"
     ]
    }
   ],
   "source": [
    "# verwijderen van kolommen + volgorde veranderen\n",
    "\n",
    "df_old = df\n",
    "\n",
    "df = df_old[[\"VgNr\", \"Dt\", \"date_time\", \"date\", \"time\", \"Lon_a\", \"Lat_a\", \"Lon_b\", \"Lat_b\", \"distance\", \"minutes_a\", \"minutes_b\", \"dif_min\", \"dif_sec\", \"speed_ms\", \"speed_kmu\"]]\n",
    "\n",
    "df[0:10].head()"
   ]
  },
  {
   "cell_type": "code",
   "execution_count": null,
   "metadata": {},
   "outputs": [],
   "source": []
  },
  {
   "cell_type": "code",
   "execution_count": null,
   "metadata": {},
   "outputs": [],
   "source": []
  }
 ],
 "metadata": {
  "kernelspec": {
   "display_name": "Python 2",
   "language": "python",
   "name": "python2"
  },
  "language_info": {
   "codemirror_mode": {
    "name": "ipython",
    "version": 2
   },
   "file_extension": ".py",
   "mimetype": "text/x-python",
   "name": "python",
   "nbconvert_exporter": "python",
   "pygments_lexer": "ipython2",
   "version": "2.7.15"
  }
 },
 "nbformat": 4,
 "nbformat_minor": 2
}
