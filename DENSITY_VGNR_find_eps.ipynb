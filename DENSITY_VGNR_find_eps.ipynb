{
 "cells": [
  {
   "cell_type": "markdown",
   "metadata": {},
   "source": [
    "#Bepalen van de waarde van de parameters EPS en MinSamples voor de DBScan\n",
    "\n",
    "In dit script creëren we een nieuwe methode om te bepalen wat de waarde moet zijn van de parameters EPS en MinSamples. Deze parameters worden door de DBScan gebruikt om clusters te maken. EPS is de afkorting voor epsilon en staat voor de maximale afstand tussen twee XY punten om tot hetzelfde cluster te horen. MinSamples staat voor het minimale aantal XY punten die bij elkaar in buurt moeten liggen om tot een cluster beschouwd te worden.  "
   ]
  },
  {
   "cell_type": "code",
   "execution_count": null,
   "metadata": {},
   "outputs": [],
   "source": [
    "import pandas as pd, numpy as np, matplotlib.pyplot as plt\n",
    "from scipy.stats import mannwhitneyu\n",
    "from sklearn.cluster import DBSCAN\n",
    "from geopy.distance import great_circle\n",
    "from shapely.geometry import MultiPoint\n",
    "from sklearn import preprocessing"
   ]
  },
  {
   "cell_type": "code",
   "execution_count": null,
   "metadata": {},
   "outputs": [],
   "source": [
    "#inladen csv (resultaat script \"00_bereken_afstand_snelheid_tussen_XYT_punten.ipynb\")\n",
    "df = pd.read_csv('XYT_speed_distance.csv')\n",
    "df = df[:-1] #Laatste regel is NAN\n",
    "#df_org = df #Orginele df ivm merge\n",
    "\n",
    "df.head(5)"
   ]
  },
  {
   "cell_type": "code",
   "execution_count": null,
   "metadata": {},
   "outputs": [],
   "source": [
    "#Schalen van XYV punten \n",
    "coords_speed = np.asarray(df[['Lat_a', 'Lon_a', \"distance_km\", \"VgNr\"]])\n",
    "coords = preprocessing.scale(coords_speed)\n",
    "\n",
    "df.head(10)"
   ]
  },
  {
   "cell_type": "code",
   "execution_count": null,
   "metadata": {},
   "outputs": [],
   "source": [
    "def gemiddelde_kmu_per_eps(df, coords, eps, min_samples, speed_column=\"speed_kmu\"):\n",
    "    model = DBSCAN(eps=eps, min_samples=min_samples, algorithm=\"auto\").fit(coords)\n",
    "    cluster_labels = model.labels_\n",
    "    num_clusters = len(set(cluster_labels))\n",
    "    df[\"cluster\"] = cluster_labels\n",
    "    clusters = df.speed_kmu[df[\"cluster\"] > -1]   \n",
    "    ruis =df.speed_kmu[df[\"cluster\"] == -1]\n",
    "    u, prob = mannwhitneyu(clusters, ruis)\n",
    "    kmu_per_cluster = df.groupby('cluster')[\"speed_kmu\"].mean().reset_index(name='kmu_per_cluster')\n",
    "    mean_kmu = kmu_per_cluster[\"kmu_per_cluster\"].mean()\n",
    "    return (eps, min_samples, num_clusters, mean_kmu, u)\n",
    "    \n",
    "\n",
    "#     kmu_per_cluster = df.groupby('cluster')[\"speed_kmu\"].mean()\n",
    "#     .reset_index(name='kmu_per_cluster')\n",
    "#     mean_kmu = kmu_per_cluster[\"kmu_per_cluster\"].mean()\n",
    "#     return (eps, min_samples, num_clusters, kmu_per_cluster, u)\n",
    "# y = gemiddelde snelheid per cluster\n",
    "# x = eps\n",
    "# DataFrame.append\n",
    "\n",
    "# output_df = pd.DataFrame()\n",
    "output_list = []\n",
    "\n",
    "for epsilon in np.linspace(0.14, 0.5, 10):\n",
    "    for min_samples in range(1, 8, 1):\n",
    "        output = gemiddelde_kmu_per_eps(df=df, coords=coords, eps=epsilon, min_samples=min_samples)\n",
    "        output_list.append(output)\n",
    "\n",
    "# for epsilon in range(1, 1000, 1):\n",
    "#     for min_samples in range(1, 6, 1):\n",
    "#         output = gemiddelde_kmu_per_eps(df=df_loop, coords=coords_2, eps=epsilon/100000, min_samples=min_samples)\n",
    "#         output_list.append(output)\n",
    "\n",
    "output_df = pd.DataFrame(output_list, columns = [\"eps\", \"min_samples\", \"NoP_cluster\", \"mean_kmu_speed\", \"MannWhitney_U\"])\n",
    "\n",
    "# gemiddelde_kmu_per_eps(mean_kmu)"
   ]
  },
  {
   "cell_type": "code",
   "execution_count": null,
   "metadata": {},
   "outputs": [],
   "source": [
    "output_df"
   ]
  },
  {
   "cell_type": "code",
   "execution_count": null,
   "metadata": {},
   "outputs": [],
   "source": [
    "x = np.array(output_df[\"eps\"])\n",
    "y = np.array(output_df[\"min_samples\"])\n",
    "z = np.array(output_df[\"MannWhitney_U\"])\n",
    "hoi = pd.DataFrame.from_dict(np.array([x,y,z]).T)\n",
    "hoi.columns = ['x','y','z']\n",
    "pivotted = hoi.pivot('y','x','z')\n",
    "\n",
    "import seaborn as sns\n",
    "sns.set()\n",
    "\n",
    "sns.heatmap(pivotted, cmap=\"RdBu\")"
   ]
  },
  {
   "cell_type": "code",
   "execution_count": null,
   "metadata": {},
   "outputs": [],
   "source": [
    "hoi.sort_values(by=\"z\")\n",
    "hoi.to_csv(\"VGNR_hoi.csv\")"
   ]
  },
  {
   "cell_type": "code",
   "execution_count": null,
   "metadata": {},
   "outputs": [],
   "source": [
    "# # from bokeh.plotting import figure, show, output_file\n",
    "# from bokeh.plotting import figure, output_file, show\n",
    "# from bokeh.io import push_notebook, show, output_notebook, curdoc, show\n",
    "# from bokeh.models import ColumnDataSource, Plot, LinearAxis, Grid\n",
    "# from bokeh.models.glyphs import VBar\n",
    "# output_notebook()\n",
    "\n",
    "# #KMU Visual\n",
    "# x = output_df[\"eps\"]\n",
    "# y = output_df[\"mean_kmu_speed\"]\n",
    "\n",
    "# # output to static HTML file\n",
    "# output_file(\"line.html\")\n",
    "\n",
    "# p = figure(plot_width=500, plot_height=500)\n",
    "# p.circle(x=x, y=y, size=, color=\"navy\")\n",
    "# show(p)\n",
    "\n",
    "# #NoP visual\n",
    "# x = output_df[\"eps\"]\n",
    "# y = output_df[\"NoP_cluster\"]\n",
    "\n",
    "# # output to static HTML file\n",
    "# output_file(\"line.html\")\n",
    "\n",
    "# p = figure(plot_width=500, plot_height=500)\n",
    "# p.circle(x=x, y=y, size=20, color=\"navy\")\n",
    "# show(p)"
   ]
  },
  {
   "cell_type": "code",
   "execution_count": null,
   "metadata": {},
   "outputs": [],
   "source": []
  },
  {
   "cell_type": "code",
   "execution_count": null,
   "metadata": {},
   "outputs": [],
   "source": []
  },
  {
   "cell_type": "code",
   "execution_count": null,
   "metadata": {},
   "outputs": [],
   "source": []
  }
 ],
 "metadata": {
  "kernelspec": {
   "display_name": "Python 3",
   "language": "python",
   "name": "python3"
  },
  "language_info": {
   "codemirror_mode": {
    "name": "ipython",
    "version": 3
   },
   "file_extension": ".py",
   "mimetype": "text/x-python",
   "name": "python",
   "nbconvert_exporter": "python",
   "pygments_lexer": "ipython3",
   "version": "3.7.0"
  }
 },
 "nbformat": 4,
 "nbformat_minor": 2
}
