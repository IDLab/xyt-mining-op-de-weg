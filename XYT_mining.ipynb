{
 "cells": [
  {
   "cell_type": "markdown",
   "metadata": {},
   "source": [
    "# XYT mining op de weg"
   ]
  },
  {
   "cell_type": "markdown",
   "metadata": {},
   "source": [
    "In deze project identificeren we start- en stoplocaties op basis van XYT gegevens. "
   ]
  },
  {
   "cell_type": "code",
   "execution_count": 6,
   "metadata": {},
   "outputs": [],
   "source": [
    "import pandas as pd\n",
    "import numpy as np\n",
    "import math\n",
    "from math import radians, cos, sin, asin, sqrt\n",
    "\n",
    "#df[\"minutes\"].iloc[762:771] = df[\"minutes\"].iloc[762:771] + 1440 geeft warning: setting with copy --> weet niet wat het probleem is, werkt prima\n",
    "pd.set_option('mode.chained_assignment', None)\n",
    "\n"
   ]
  },
  {
   "cell_type": "code",
   "execution_count": 7,
   "metadata": {},
   "outputs": [],
   "source": [
    "#inlezen csv\n",
    "df = pd.read_csv(\"XYT_data.csv\", sep=\";\")"
   ]
  },
  {
   "cell_type": "markdown",
   "metadata": {},
   "source": [
    "Eerst berekenen we het verschil in tijd tussen twee XY punten. Dit doen we door de tijdgegevens op te splitsen in datum en tijd. Daarna rekenen we de tijd om naar minuten. Als laatste berekenen we het verschil in minuten tussen twee XY punten. "
   ]
  },
  {
   "cell_type": "code",
   "execution_count": 8,
   "metadata": {},
   "outputs": [],
   "source": [
    "#Naar leesbare datumvermelding \n",
    "df[\"date_time\"] = pd.to_datetime(df[\"Dt\"])\n",
    "\n",
    "#verschillende kolommen voor tijd en datum\n",
    "df[\"date\"] = df[\"date_time\"].dt.date\n",
    "df[\"time\"] = df[\"date_time\"].dt.time\n",
    "\n",
    "#Tijd naar minuten omrekenen\n",
    "minutes = pd.DatetimeIndex(df['date_time'])\n",
    "df[\"minutes\"] = minutes.hour * 60 + minutes.minute\n",
    "\n",
    "#deel van de tijd op volgende dag --> minuten gaan van 1439 naar 0 --> maar gezien we in de code de minuten van elkaar moeten aftrekken + 1440 gedaan\n",
    "df[\"minutes\"].iloc[762:771] = df[\"minutes\"].iloc[762:771] + 1440\n",
    "\n",
    "#Verschil in minuten en seconden\n",
    "df[\"dif_min\"] = df[\"minutes\"].diff().fillna(0).astype(int)\n",
    "df[\"dif_sec\"] = df[\"dif_min\"].multiply(60)\n"
   ]
  },
  {
   "cell_type": "markdown",
   "metadata": {},
   "source": [
    "Nu is het tijd om het verschil in meters te berekenen tussen twee XY. De afstand berekenen we met behulp van de Haversine-formule.  "
   ]
  },
  {
   "cell_type": "code",
   "execution_count": 9,
   "metadata": {},
   "outputs": [],
   "source": [
    "#In de Haversine-formule berekenen we de afstand tussen punt a en b. Om dit te berekenen zijn creëren we de kolommen lon_a / lat_a/ lon_b / lat_b. \n",
    "df[\"Lon_a\"] = df[\"Lon\"].shift(1)\n",
    "df[\"Lat_a\"] = df[\"Lat\"].shift(1)\n",
    "df[\"Lon_b\"] = df[\"Lon\"]\n",
    "df[\"Lat_b\"] = df[\"Lat\"]"
   ]
  },
  {
   "cell_type": "code",
   "execution_count": 10,
   "metadata": {},
   "outputs": [
    {
     "data": {
      "text/plain": [
       "<bound method NDFrame.head of      VgNr                        Dt        Lat       Lon Md Nv  \\\n",
       "0  378299  2017-09-28T11:18:25.000Z  52.373773  4.800460  O  B   \n",
       "1  378300  2017-09-28T11:19:25.000Z  52.373781  4.800459  O  B   \n",
       "2  378301  2017-09-28T11:20:25.000Z  52.373747  4.800462  O  B   \n",
       "3  378302  2017-09-28T11:21:25.000Z  52.373744  4.800482  O  B   \n",
       "4  378303  2017-09-28T11:22:25.000Z  52.373742  4.800489  O  B   \n",
       "5  378304  2017-09-28T11:23:25.000Z  52.373782  4.800505  O  B   \n",
       "6  378305  2017-09-28T11:24:25.000Z  52.373756  4.800447  O  B   \n",
       "7  378306  2017-09-28T11:25:25.000Z  52.373767  4.800489  O  B   \n",
       "8  378307  2017-09-28T11:26:25.000Z  52.373767  4.800485  O  B   \n",
       "9  378308  2017-09-28T11:27:25.000Z  52.373775  4.800453  O  B   \n",
       "\n",
       "      GPS Coordinaten           date_time        date      time  minutes  \\\n",
       "0  52.373773,4.800460 2017-09-28 11:18:25  2017-09-28  11:18:25      678   \n",
       "1  52.373781,4.800459 2017-09-28 11:19:25  2017-09-28  11:19:25      679   \n",
       "2  52.373747,4.800462 2017-09-28 11:20:25  2017-09-28  11:20:25      680   \n",
       "3  52.373744,4.800482 2017-09-28 11:21:25  2017-09-28  11:21:25      681   \n",
       "4  52.373742,4.800489 2017-09-28 11:22:25  2017-09-28  11:22:25      682   \n",
       "5  52.373782,4.800505 2017-09-28 11:23:25  2017-09-28  11:23:25      683   \n",
       "6  52.373756,4.800447 2017-09-28 11:24:25  2017-09-28  11:24:25      684   \n",
       "7  52.373767,4.800489 2017-09-28 11:25:25  2017-09-28  11:25:25      685   \n",
       "8  52.373767,4.800485 2017-09-28 11:26:25  2017-09-28  11:26:25      686   \n",
       "9  52.373775,4.800453 2017-09-28 11:27:25  2017-09-28  11:27:25      687   \n",
       "\n",
       "   dif_min  dif_sec     Lon_a      Lat_a     Lon_b      Lat_b  distance  \n",
       "0        0        0       NaN        NaN  4.800460  52.373773       NaN  \n",
       "1        1       60  4.800460  52.373773  4.800459  52.373781  0.892146  \n",
       "2        1       60  4.800459  52.373781  4.800462  52.373747  3.786109  \n",
       "3        1       60  4.800462  52.373747  4.800482  52.373744  1.398088  \n",
       "4        1       60  4.800482  52.373744  4.800489  52.373742  0.524662  \n",
       "5        1       60  4.800489  52.373742  4.800505  52.373782  4.578499  \n",
       "6        1       60  4.800505  52.373782  4.800447  52.373756  4.884774  \n",
       "7        1       60  4.800447  52.373756  4.800489  52.373767  3.102474  \n",
       "8        1       60  4.800489  52.373767  4.800485  52.373767  0.271542  \n",
       "9        1       60  4.800485  52.373767  4.800453  52.373775  2.347412  >"
      ]
     },
     "execution_count": 10,
     "metadata": {},
     "output_type": "execute_result"
    }
   ],
   "source": [
    "## Daarna creëren we de functie haversine ((https://stackoverflow.com/questions/4913349/haversine-formula-in-python-bearing-and-distance-between-two-gps-points).\n",
    "\n",
    "def haversine(lon1, lat1, lon2, lat2):\n",
    "    \"\"\"\n",
    "    Calculate the great circle distance between two points \n",
    "    on the earth (specified in decimal degrees)\n",
    "    \"\"\"\n",
    "    # convert decimal degrees to radians \n",
    "    lon1, lat1, lon2, lat2 = map(radians, [lon1, lat1, lon2, lat2])\n",
    "\n",
    "    # haversine formula \n",
    "    dlon = lon2 - lon1 \n",
    "    dlat = lat2 - lat1 \n",
    "    a = sin(dlat/2)**2 + cos(lat1) * cos(lat2) * sin(dlon/2)**2\n",
    "    c = 2 * asin(sqrt(a)) \n",
    "    r = 6371 # Radius of earth in kilometers. Use 3956 for miles\n",
    "    return c * r\n",
    "\n",
    "## Creërt kolom \"distance\". Deze kolom geeft verschil aan tussen punt a en b.\n",
    "for index, row in df.iterrows():\n",
    "    df.loc[index, 'distance'] = haversine(row['Lon_a'], row['Lat_a'], row['Lon_b'], row['Lat_b'])\n",
    "\n",
    "## Verschil afstand in meters\n",
    "df[\"distance\"] = df[\"distance\"].multiply(1000)\n",
    "\n",
    "df[0:10].head"
   ]
  },
  {
   "cell_type": "code",
   "execution_count": null,
   "metadata": {},
   "outputs": [],
   "source": []
  },
  {
   "cell_type": "code",
   "execution_count": null,
   "metadata": {},
   "outputs": [],
   "source": []
  }
 ],
 "metadata": {
  "kernelspec": {
   "display_name": "Python 3",
   "language": "python",
   "name": "python3"
  },
  "language_info": {
   "codemirror_mode": {
    "name": "ipython",
    "version": 3
   },
   "file_extension": ".py",
   "mimetype": "text/x-python",
   "name": "python",
   "nbconvert_exporter": "python",
   "pygments_lexer": "ipython3",
   "version": "3.6.5"
  }
 },
 "nbformat": 4,
 "nbformat_minor": 2
}
