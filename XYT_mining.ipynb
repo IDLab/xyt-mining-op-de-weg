{
 "cells": [
  {
   "cell_type": "markdown",
   "metadata": {},
   "source": [
    "# XYT mining op de weg"
   ]
  },
  {
   "cell_type": "markdown",
   "metadata": {},
   "source": [
    "In deze project identificeren we start- en stoplocaties op basis van XYT gegevens. "
   ]
  },
  {
   "cell_type": "code",
   "execution_count": 1,
   "metadata": {},
   "outputs": [],
   "source": [
    "import pandas as pd\n",
    "\n",
    "#df[\"minutes\"].iloc[762:771] = df[\"minutes\"].iloc[762:771] + 1440 geeft warning: setting with copy --> weet niet wat het probleem is, werkt prima\n",
    "pd.set_option('mode.chained_assignment', None)\n",
    "\n",
    "from math import radians, cos, sin, asin, sqrt\n"
   ]
  },
  {
   "cell_type": "code",
   "execution_count": 2,
   "metadata": {},
   "outputs": [],
   "source": [
    "#inlezen csv\n",
    "df = pd.read_csv(\"XYT_data.csv\", sep=\";\")"
   ]
  },
  {
   "cell_type": "markdown",
   "metadata": {},
   "source": [
    "Nu is het tijd om het verschil in meters te berekenen tussen twee XY. De afstand berekenen we met behulp van de Haversine-formule.  "
   ]
  },
  {
   "cell_type": "code",
   "execution_count": 3,
   "metadata": {},
   "outputs": [],
   "source": [
    "#In de Haversine-formule berekenen we de afstand tussen punt a en b. Om dit te berekenen zijn creëren we de kolommen lon_a / lat_a/ lon_b / lat_b. \n",
    "df[\"Lon_a\"] = df[\"Lon\"]\n",
    "df[\"Lat_a\"] = df[\"Lat\"]\n",
    "df[\"Lon_b\"] = df[\"Lon\"].shift(-1)\n",
    "df[\"Lat_b\"] = df[\"Lat\"].shift(-1)"
   ]
  },
  {
   "cell_type": "code",
   "execution_count": 4,
   "metadata": {},
   "outputs": [],
   "source": [
    "## Daarna creëren we de functie haversine ((https://stackoverflow.com/questions/4913349/haversine-formula-in-python-bearing-and-distance-between-two-gps-points).\n",
    "\n",
    "def haversine(lon1, lat1, lon2, lat2):\n",
    "    \"\"\"\n",
    "    Calculate the great circle distance between two points \n",
    "    on the earth (specified in decimal degrees)\n",
    "    \"\"\"\n",
    "    # convert decimal degrees to radians \n",
    "    lon1, lat1, lon2, lat2 = map(radians, [lon1, lat1, lon2, lat2])\n",
    "\n",
    "    # haversine formula \n",
    "    dlon = lon2 - lon1 \n",
    "    dlat = lat2 - lat1 \n",
    "    a = sin(dlat/2)**2 + cos(lat1) * cos(lat2) * sin(dlon/2)**2\n",
    "    c = 2 * asin(sqrt(a)) \n",
    "    r = 6371 # Radius of earth in kilometers. Use 3956 for miles\n",
    "    return c * r\n",
    "\n",
    "## Creërt kolom \"distance\". Deze kolom geeft verschil aan tussen punt a en b.\n",
    "for index, row in df.iterrows():\n",
    "    df.loc[index, 'distance'] = haversine(row['Lon_a'], row['Lat_a'], row['Lon_b'], row['Lat_b'])\n",
    "\n",
    "## Verschil afstand in meters\n",
    "df[\"distance\"] = df[\"distance\"].multiply(1000)"
   ]
  },
  {
   "cell_type": "markdown",
   "metadata": {},
   "source": [
    "Eerst berekenen we het verschil in tijd tussen twee XY punten. Dit doen we door de tijdgegevens op te splitsen in datum en tijd. Daarna rekenen we de tijd om naar minuten. Als laatste berekenen we het verschil in minuten tussen twee XY punten. "
   ]
  },
  {
   "cell_type": "code",
   "execution_count": 7,
   "metadata": {},
   "outputs": [],
   "source": [
    "#Naar leesbare datumvermelding \n",
    "df[\"date_time\"] = pd.to_datetime(df[\"Dt\"])\n",
    "\n",
    "#verschillende kolommen voor tijd en datum\n",
    "df[\"date\"] = df[\"date_time\"].dt.date\n",
    "df[\"time\"] = df[\"date_time\"].dt.time\n",
    "\n",
    "#Tijd naar minuten omrekenen\n",
    "minutes = pd.DatetimeIndex(df['date_time'])\n",
    "df[\"minutes_a\"] = minutes.hour * 60 + minutes.minute\n",
    "\n",
    "#deel van de tijd op volgende dag --> minuten gaan van 1439 naar 0 --> maar gezien we in de code de minuten van elkaar moeten aftrekken + 1440 gedaan\n",
    "df[\"minutes_a\"].iloc[762:771] = df[\"minutes_a\"].iloc[762:771] + 1440\n",
    "df[\"minutes_b\"] = df[\"minutes_a\"].shift(-1).fillna(0).astype(int)\n",
    "\n",
    "#Verschil in tijd afstanden (km/u en m/s)\n",
    "df[\"dif_min\"] = df[\"minutes_b\"] - df[\"minutes_a\"]\n",
    "df[\"dif_sec\"] = df[\"dif_min\"].multiply(60)\n",
    "df[\"speed_ms\"] = df[\"distance\"]/df[\"dif_sec\"]\n",
    "df[\"speed_kmu\"] = df[\"distance\"].divide(1000)/df[\"dif_sec\"].divide(60*60)"
   ]
  },
  {
   "cell_type": "code",
   "execution_count": 8,
   "metadata": {},
   "outputs": [
    {
     "data": {
      "text/plain": [
       "<bound method NDFrame.head of      VgNr                        Dt           date_time        date      time  \\\n",
       "0  378299  2017-09-28T11:18:25.000Z 2017-09-28 11:18:25  2017-09-28  11:18:25   \n",
       "1  378300  2017-09-28T11:19:25.000Z 2017-09-28 11:19:25  2017-09-28  11:19:25   \n",
       "2  378301  2017-09-28T11:20:25.000Z 2017-09-28 11:20:25  2017-09-28  11:20:25   \n",
       "3  378302  2017-09-28T11:21:25.000Z 2017-09-28 11:21:25  2017-09-28  11:21:25   \n",
       "4  378303  2017-09-28T11:22:25.000Z 2017-09-28 11:22:25  2017-09-28  11:22:25   \n",
       "5  378304  2017-09-28T11:23:25.000Z 2017-09-28 11:23:25  2017-09-28  11:23:25   \n",
       "6  378305  2017-09-28T11:24:25.000Z 2017-09-28 11:24:25  2017-09-28  11:24:25   \n",
       "7  378306  2017-09-28T11:25:25.000Z 2017-09-28 11:25:25  2017-09-28  11:25:25   \n",
       "8  378307  2017-09-28T11:26:25.000Z 2017-09-28 11:26:25  2017-09-28  11:26:25   \n",
       "9  378308  2017-09-28T11:27:25.000Z 2017-09-28 11:27:25  2017-09-28  11:27:25   \n",
       "\n",
       "      GPS Coordinaten     Lon_a      Lat_a     Lon_b      Lat_b  distance  \\\n",
       "0  52.373773,4.800460  4.800460  52.373773  4.800459  52.373781  0.892146   \n",
       "1  52.373781,4.800459  4.800459  52.373781  4.800462  52.373747  3.786109   \n",
       "2  52.373747,4.800462  4.800462  52.373747  4.800482  52.373744  1.398088   \n",
       "3  52.373744,4.800482  4.800482  52.373744  4.800489  52.373742  0.524662   \n",
       "4  52.373742,4.800489  4.800489  52.373742  4.800505  52.373782  4.578499   \n",
       "5  52.373782,4.800505  4.800505  52.373782  4.800447  52.373756  4.884774   \n",
       "6  52.373756,4.800447  4.800447  52.373756  4.800489  52.373767  3.102474   \n",
       "7  52.373767,4.800489  4.800489  52.373767  4.800485  52.373767  0.271542   \n",
       "8  52.373767,4.800485  4.800485  52.373767  4.800453  52.373775  2.347412   \n",
       "9  52.373775,4.800453  4.800453  52.373775  4.800468  52.373759  2.049917   \n",
       "\n",
       "   minutes_a  minutes_b  dif_min  dif_sec  speed_ms  speed_kmu  \n",
       "0        678        679        1       60  0.014869   0.053529  \n",
       "1        679        680        1       60  0.063102   0.227167  \n",
       "2        680        681        1       60  0.023301   0.083885  \n",
       "3        681        682        1       60  0.008744   0.031480  \n",
       "4        682        683        1       60  0.076308   0.274710  \n",
       "5        683        684        1       60  0.081413   0.293086  \n",
       "6        684        685        1       60  0.051708   0.186148  \n",
       "7        685        686        1       60  0.004526   0.016292  \n",
       "8        686        687        1       60  0.039124   0.140845  \n",
       "9        687        688        1       60  0.034165   0.122995  >"
      ]
     },
     "execution_count": 8,
     "metadata": {},
     "output_type": "execute_result"
    }
   ],
   "source": [
    "# verwijderen van kolommen + volgorde veranderen\n",
    "\n",
    "df_old = df\n",
    "\n",
    "df = df_old[[\"VgNr\", \"Dt\", \"date_time\", \"date\", \"time\", \"GPS Coordinaten\", \"Lon_a\", \"Lat_a\", \"Lon_b\", \"Lat_b\", \"distance\", \"minutes_a\", \"minutes_b\", \"dif_min\", \"dif_sec\", \"speed_ms\", \"speed_kmu\"]]\n",
    "\n",
    "df[0:10].head"
   ]
  },
  {
   "cell_type": "code",
   "execution_count": null,
   "metadata": {},
   "outputs": [],
   "source": []
  },
  {
   "cell_type": "code",
   "execution_count": null,
   "metadata": {},
   "outputs": [],
   "source": []
  }
 ],
 "metadata": {
  "kernelspec": {
   "display_name": "Python 3",
   "language": "python",
   "name": "python3"
  },
  "language_info": {
   "codemirror_mode": {
    "name": "ipython",
    "version": 3
   },
   "file_extension": ".py",
   "mimetype": "text/x-python",
   "name": "python",
   "nbconvert_exporter": "python",
   "pygments_lexer": "ipython3",
   "version": "3.6.5"
  }
 },
 "nbformat": 4,
 "nbformat_minor": 2
}
